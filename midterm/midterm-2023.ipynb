{
  "cells": [
    {
      "cell_type": "markdown",
      "metadata": {
        "id": "HeK53aK5IhLy"
      },
      "source": [
        "# HDS5210-2022 Midterm\n",
        "\n",
        "In the midterm, you're going to use all the programming and data management skills you've developed so far to build a risk calculator that pretends to be integrated with a clinical registry.  You'll compute the PRIEST COVID-19 Clinical Severity Score for a series of patients and, based on their risk of an adverse outcome, query a REST web service to find a hospital to transfer them to. The end result of your work will be a list of instructions on where each patient should be discharged given their risk and various characteristics of the patient.\n",
        "\n",
        "Each step in the midterm will build up to form your complete solution.\n",
        "\n",
        "**Make sure you write good docstrings and doctests along the way!!**\n",
        "\n",
        "**The midterm is due at 11:59 PM CST on Monday, October 23rd.**\n",
        "\n",
        "---"
      ]
    },
    {
      "cell_type": "markdown",
      "metadata": {
        "id": "PpF67WgLIhL2"
      },
      "source": [
        "## Step 1: Calculate PRIEST Clinical Severity Score\n",
        "\n",
        "This scoring algorithm can be found [here on the MDCalc website](https://www.mdcalc.com/priest-covid-19-clinical-severity-score#evidence).  \n",
        "\n",
        "1. You will need to write a function called **priest()** with the following input parameters.  \n",
        " * Sex (Gender assigned at birth)\n",
        " * Age in years\n",
        " * Respiratory rate in breaths per minute\n",
        " * Oxygen saturation as a percent between 0 and 1\n",
        " * Heart rate in beats per minute\n",
        " * Systolic BP in mmHg\n",
        " * Temperature in degrees C\n",
        " * Alertness as a string description\n",
        " * Inspired Oxygen as as string description\n",
        " * Performance Status as a string description\n",
        "2. The function will need to follow the algorithm provided on the MDCalc website to compute a risk percentage that should be returned as a numeric value between 0 and 1.\n",
        "3. Be sure to use docstring documentation and at least three built-in docstring test cases.\n",
        "4. Assume that the input values that are strings could be any combination of upper or lower case. For example: 'male', 'Male', 'MALE', 'MalE' should all be interpretted by your code as male.\n",
        "5. If any of the inputs are invalid (for example a sex value that is not recognizable as male or female) your code should return None.\n",
        "\n",
        "NOTES:\n",
        "1. In the final step there is a table that translates from **PRIEST Score** to **30-day probability of an outcome** but the last two probabilities are shown as ranges (59-88% and >99%).  Our code needs to output a single number, however. For our code, use the following rule:\n",
        " * If PRIEST score is between 17 and 25, the probability you return should be 0.59\n",
        " * If PRIEST score is greater than or equal to 26, the probability you return should be 0.99\n"
      ]
    },
    {
      "cell_type": "code",
      "execution_count": 14,
      "metadata": {
        "id": "DBqdWWlYIhL2"
      },
      "outputs": [],
      "source": [
        "def priest(sex, age, respRate, oxySat, heartRate, sysBP, temp, alertness, inspOyg, perform):\n",
        "    \"\"\"\n",
        "    (String, integer, integer, integer, integer, integer, float, String, String, String) -> float)\n",
        "\n",
        "    Priest function calculates risk percentage like Predicts adverse outcome in adults presenting to ED with suspected COVID-19.\n",
        "\n",
        "    Priest function expects sex, alertness, inspOxy and perform in String and remaining all are in float.\n",
        "\n",
        "    Priest function calculates risk based on the algorithm provided in PRIEST mdcalc\n",
        "\n",
        "    >>> priest(\"Male\", 18, 12, 0.96, 115, 115, 38.1, \"ALERT\", \"AIR\", \"unrestricted normal activity\")\n",
        "    0.03\n",
        "\n",
        "    >>> priest(\"FEMALE\", 18, 24, 0.96, 41, 115, 35.1, \"confused or not alert\", \"AIR\", \"unrestricted normal activity\")\n",
        "    0.18\n",
        "\n",
        "    >>> priest(\"FEMALE\", 40, 8, 0.89, 105, 101, 38.1, \"ALERT\", \"supplemental oxygen\", \"unrestricted normal activity\")\n",
        "    0.34\n",
        "\n",
        "    \"\"\"\n",
        "\n",
        "    sex = sex.lower()\n",
        "    score = 0\n",
        "\n",
        "    if sex==\"male\":\n",
        "        score += 1\n",
        "    if age > 80:\n",
        "        score = score + 4\n",
        "    elif age >= 50 and age<=65:\n",
        "        score = score + 2\n",
        "    elif age >= 66 and age<=80:\n",
        "        score = score + 3\n",
        "    if respRate < 9:\n",
        "        score = score +  3\n",
        "    elif respRate >= 9 and respRate <= 11:\n",
        "        score = score +  1\n",
        "    elif respRate >= 21 and respRate <= 24:\n",
        "        score = score +  2\n",
        "    elif respRate > 24:\n",
        "        score = score +  3\n",
        "    if oxySat >= 0.94 and oxySat <= 0.95:\n",
        "        score = score +  1\n",
        "    elif oxySat >= 0.92 and oxySat <= 0.93:\n",
        "        score = score +  2\n",
        "    elif oxySat < 0.92:\n",
        "        score = score +  3\n",
        "    if heartRate < 41:\n",
        "        score = score +  3\n",
        "    elif heartRate >= 41 and heartRate <= 50:\n",
        "        score = score +  1\n",
        "    elif heartRate >= 91 and heartRate <= 110:\n",
        "        score = score +  1\n",
        "    elif heartRate >= 111 and heartRate <= 130:\n",
        "        score = score +  2\n",
        "    elif heartRate > 130:\n",
        "        score = score +  3\n",
        "    if sysBP < 91:\n",
        "        score = score +  3\n",
        "    elif sysBP >= 91 and sysBP <= 100:\n",
        "        score = score +  2\n",
        "    elif sysBP >= 101 and sysBP <= 110:\n",
        "        score = score +  1\n",
        "    elif sysBP > 219:\n",
        "        score = score +  3\n",
        "    if temp < 35.1:\n",
        "        score = score +  3\n",
        "    elif temp >= 35.1 and temp <= 36.0:\n",
        "        score = score +  1\n",
        "    elif temp >= 38.1 and temp <= 39.0:\n",
        "        score = score +  1\n",
        "    elif temp > 39.0:\n",
        "        score = score +  2\n",
        "    alertness = alertness.lower()\n",
        "    if alertness == \"confused or not alert\":\n",
        "        score = score +  3\n",
        "    inspOyg = inspOyg.lower()\n",
        "    if inspOyg == \"supplemental oxygen\":\n",
        "        score = score +  2\n",
        "    perform = perform.lower()\n",
        "    if perform == \"limited strenuous activity, can do light activity\":\n",
        "        score = score +  1\n",
        "    elif perform == \"limited activity, can self-care\":\n",
        "        score = score +  2\n",
        "    elif perform == \"limited self-care\":\n",
        "        score = score +  3\n",
        "    elif perform == \"bed/chair bound, no self-care\":\n",
        "        score = score +  4\n",
        "\n",
        "    rPer = [0.01, 0.01, 0.02, 0.02, 0.03, 0.09, 0.15, 0.18, 0.22, 0.26, 0.29, 0.34, 0.38, 0.46, 0.47, 0.49, 0.55, 0.59, 0.59, 0.59, 0.59, 0.59, 0.59, 0.59, 0.59, 0.59,0.99]\n",
        "    if score>=26:\n",
        "        return 0.99\n",
        "    return rPer[score]"
      ]
    },
    {
      "cell_type": "code",
      "execution_count": 15,
      "metadata": {
        "id": "B7HnSRAkIhL3",
        "outputId": "2f1cc4f9-014b-4e19-b3f0-7b6c3f657224",
        "colab": {
          "base_uri": "https://localhost:8080/"
        }
      },
      "outputs": [
        {
          "output_type": "stream",
          "name": "stdout",
          "text": [
            "Finding tests in NoName\n",
            "Trying:\n",
            "    priest(\"Male\", 18, 12, 0.96, 115, 115, 38.1, \"ALERT\", \"AIR\", \"unrestricted normal activity\")\n",
            "Expecting:\n",
            "    0.03\n",
            "ok\n",
            "Trying:\n",
            "    priest(\"FEMALE\", 18, 24, 0.96, 41, 115, 35.1, \"confused or not alert\", \"AIR\", \"unrestricted normal activity\")\n",
            "Expecting:\n",
            "    0.18\n",
            "ok\n",
            "Trying:\n",
            "    priest(\"FEMALE\", 40, 8, 0.89, 105, 101, 38.1, \"ALERT\", \"supplemental oxygen\", \"unrestricted normal activity\")\n",
            "Expecting:\n",
            "    0.34\n",
            "ok\n"
          ]
        }
      ],
      "source": [
        "import doctest\n",
        "doctest.run_docstring_examples(priest, globals(),verbose=True)"
      ]
    },
    {
      "cell_type": "markdown",
      "metadata": {
        "id": "rl7PGzR7IhL4"
      },
      "source": [
        "## Part 2: Find a hospital\n",
        "\n",
        "The next thing we have to do is figure out where to send this particular patient.  The guidelines on where to send a patient are based on their age (pediatric, adult, geriatric), sex, and risk percentage.  Luckily, you don't have to implement these rules. I already have. All you have to do is use a REST web service that I've created for you.\n",
        "\n",
        "You'll want to use Python to make a call to my REST web service similar to the example URL below. The first part of the URL will be the same for everyone and every request that you make. What you will need to modify for each of your requests is the information after the question mark.\n",
        "\n",
        "```\n",
        "https://oumdj6oci2.execute-api.us-east-1.amazonaws.com/prd/?age=40&sex=male&risk_pct=0.1\n",
        "```\n",
        "\n",
        "The example above asks my web service where a 40-year old male with a risk of 10% should go.  What the web service will return back is a JSON string containing the information you need.  That JSON will look like this:\n",
        "\n",
        "```json\n",
        "{\n",
        "  \"age\": \"40\",\n",
        "  \"sex\": \"male\",\n",
        "  \"risk\": \"0.1\",\n",
        "  \"hospital\": \"Southwest Hospital and Medical Center\"\n",
        "}\n",
        "```\n",
        "\n",
        "My function is not smart enough to understand `'MALE'` is the same as `'male'`.  You have to send it exactly `'male'` or `'female'`\n",
        "\n",
        "1. Your job is to write a function called **find_hospital()** that takes age, sex, and risk as parameters.\n",
        "2. Your function should call this REST web service using the `requests` module\n",
        "3. Then your function will need to interpret the JSON it gets and return just the name of the hospital\n",
        "4. If anything fails, return None\n",
        "5. Include a good docstring with at least three test cases.\n"
      ]
    },
    {
      "cell_type": "code",
      "execution_count": 16,
      "metadata": {
        "id": "QO3Fs_lJIhL5"
      },
      "outputs": [],
      "source": [
        "import json\n",
        "import csv\n",
        "import requests\n",
        "\n",
        "def find_hospital(age, sex, rper):\n",
        "    \"\"\"\n",
        "    (integer, String, float) -> String\n",
        "\n",
        "    find_hospital function find the hospital based on age, sex and risk percentage.\n",
        "\n",
        "    find_hospital function expects age, risk percentage in float and sex in String and produces hospital name in String\n",
        "\n",
        "    find_hospital function find hospital on API by passing age, sex and rper as query parameters\n",
        "\n",
        "\n",
        "    >>> find_hospital(40, \"female\", 0.34)\n",
        "    'Emory Dunwoody Medical Center'\n",
        "\n",
        "    >>> find_hospital(40, \"female\", 0.03)\n",
        "    'Select Specialty Hospital - Northeast Atlanta'\n",
        "\n",
        "    >>> find_hospital(18, \"MALE\", 0.26)\n",
        "    'Southwest Hospital and Medical Center'\n",
        "\n",
        "    \"\"\"\n",
        "    sex = sex.lower()\n",
        "    httpurll = \"https://oumdj6oci2.execute-api.us-east-1.amazonaws.com/prd/\"\n",
        "    outPut = requests.get(httpurll, params={\"age\": age, \"sex\": sex, \"risk_pct\": rper})\n",
        "\n",
        "    if outPut.status_code==200:\n",
        "        outPutJSON = outPut.json()\n",
        "        return outPutJSON['hospital']\n",
        "    else:\n",
        "        print(\"URL is not working and status code is : \" + outPut.status_code)"
      ]
    },
    {
      "cell_type": "code",
      "execution_count": 17,
      "metadata": {
        "id": "9-xzHF6JIhL5",
        "outputId": "1d544fa3-01e7-496d-a0d9-9ba9369e9616",
        "colab": {
          "base_uri": "https://localhost:8080/"
        }
      },
      "outputs": [
        {
          "output_type": "stream",
          "name": "stdout",
          "text": [
            "Finding tests in NoName\n",
            "Trying:\n",
            "    find_hospital(40, \"female\", 0.34)\n",
            "Expecting:\n",
            "    'Emory Dunwoody Medical Center'\n",
            "ok\n",
            "Trying:\n",
            "    find_hospital(40, \"female\", 0.03)\n",
            "Expecting:\n",
            "    'Select Specialty Hospital - Northeast Atlanta'\n",
            "ok\n",
            "Trying:\n",
            "    find_hospital(18, \"MALE\", 0.26)\n",
            "Expecting:\n",
            "    'Southwest Hospital and Medical Center'\n",
            "ok\n"
          ]
        }
      ],
      "source": [
        "import doctest\n",
        "doctest.run_docstring_examples(find_hospital, globals(),verbose=True)"
      ]
    },
    {
      "cell_type": "markdown",
      "metadata": {
        "id": "mjDkWZNVIhL6"
      },
      "source": [
        "## Part 3: Get the address for that hospital from a JSON file\n",
        "\n",
        "Great! Now we have code to tell us which hospital to send someone to... but we don't know where that hospital is. The next function we need to create is one that looks up the address of that hospital.  All of these hospitals are in Atlanta, Georgia.  We're going to use the list from this webpage to lookup the address for that hospital, based on its name.  https://www.officialusa.com/stateguides/health/hospitals/georgia.html\n",
        "\n",
        "Because we skipped the section about Beautiful Soup and working with HTML, I've converted this information into a JSON document for you.  It's available for you here.  Your code should retrieve this file using the `requests` module.\n",
        "\n",
        "`https://drive.google.com/uc?export=download&id=1fIFD-NkcdiMu941N4GjyMDWxiKsFJBw-`\n",
        "\n",
        "1. You need to create a function called **get_address()** that takes hospital name as a parameter and searches the data from this JSON file for the hospital you want to find.\n",
        "2. Your code will have to load the JSON and return the correct hospital based on name.\n",
        "3. If the hospital name isn't found, the function should return None.\n",
        "4. Be sure to use good docstring documentation and includes at least 3 test cases."
      ]
    },
    {
      "cell_type": "code",
      "execution_count": 18,
      "metadata": {
        "id": "DYYovHbRIhL6"
      },
      "outputs": [],
      "source": [
        "import json\n",
        "import csv\n",
        "import requests\n",
        "\n",
        "def get_address(hospName):\n",
        "    \"\"\"\n",
        "    (String) -> String\n",
        "\n",
        "    get_address function find the address of hospital based on hospital name from the url provided\n",
        "\n",
        "    get_address function expects hospital name as String and return address in String\n",
        "\n",
        "    get_address function find address by use API, where it has hospital name json data in it.\n",
        "\n",
        "    >>> get_address(\"Select Specialty Hospital - Northeast Atlanta\")\n",
        "    '1821 CLIFTON ROAD NE'\n",
        "    >>> get_address(\"Hughes Spalding Childrens Hospital\")\n",
        "    '1711 TULLIE CIRCLE NE'\n",
        "    >>> get_address(\"Southwest Hospital and Medical Center\")\n",
        "    '501 FAIRBURN ROAD SW'\n",
        "    \"\"\"\n",
        "\n",
        "    httpurll = \"https://hds5210-data.s3.amazonaws.com/ga_hospitals.json\"\n",
        "    outPut = requests.get(httpurll)\n",
        "    hospName=hospName.upper()\n",
        "    if outPut.status_code==200:\n",
        "        outPutJSON = outPut.json()\n",
        "        if hospName in outPutJSON:\n",
        "            return outPutJSON[hospName][\"ADDRESS\"]\n",
        "        else:\n",
        "            return \" \"\n",
        "    else:\n",
        "        print(\"URL is not working and status code is : \" + outPut.status_code)"
      ]
    },
    {
      "cell_type": "markdown",
      "metadata": {
        "id": "AJ_oG0siIhL6"
      },
      "source": [
        "## Part 4: Run the risk calculator on a population\n",
        "\n",
        "At the link below, there is a file called `people.psv`.  It is a pipe-delimited (`|`) file with columns that match the inputs for the PRIEST calculation above.  Your code should use the `requests` module to retrieve the file from this URL.\n",
        "\n",
        "`https://drive.google.com/uc?export=download&id=1fLxJN9YGUqmqExrilxSS8furwUER5HHh`\n",
        "\n",
        "\n",
        "In addition, the file has a patient identifier in the first column.\n",
        "\n",
        "1. Write a function called **process_people()** that takes the file location above as its only parameter. Your Python program should use your code above to process all of these rows, determine the hospital and address, and return a list whose items are a dictionary like this: `{ patient_number: [sex, age, breath, o2sat, heart, systolic, temp, alertness, inspired, status, hospital, address]}`.  Look at the file in Part 5 for what the output looks like.\n",
        "2. Be sure to use good docstrings, but you don't need any tests in your doc strings.  I've provided those for you withe file in Part 5.\n",
        "\n",
        "\n",
        "**NOTE** that when running your code for all the 100 records in the `people.psv` file, it may take a few minutes to complete.  You're making multiple calls to the internet for each record, so that can take a little while.\n"
      ]
    },
    {
      "cell_type": "code",
      "execution_count": 19,
      "metadata": {
        "id": "VYl1edlLIhL6"
      },
      "outputs": [],
      "source": [
        "import json\n",
        "import csv\n",
        "import requests\n",
        "\n",
        "def process_people(floc):\n",
        "    \"\"\"\n",
        "    (String) -> Dictionary\n",
        "\n",
        "    process_people function finds the risk percentage, hospital to visit and hospital address\n",
        "    from group of patients.\n",
        "\n",
        "    process_people function accepts floc as String and return Dictionary in json format\n",
        "\n",
        "    It gathers data in the csv file from the API and computes risk percentage, hospital to visit\n",
        "    and address of the hospital and append each patient with information including all factors and risk percentage,\n",
        "    hospital name and address to the dictionary in json format.\n",
        "\n",
        "    \"\"\"\n",
        "\n",
        "    appendJSON = {}\n",
        "    outPut = requests.get(floc)\n",
        "    if outPut.status_code==200:\n",
        "       fileData = outPut.text.split(\"\\n\")\n",
        "       fileDataWithoutDelimiter = csv.reader(fileData, delimiter='|')\n",
        "       patient, sex, age, respRate, oxySat, heartRate, sysBP, temp, alertness, inspOyg, perform = next(fileDataWithoutDelimiter)\n",
        "       for x in fileDataWithoutDelimiter:\n",
        "           if not any(field != '' for field in x):\n",
        "               break\n",
        "           patient, sex, age, respRate, oxySat, heartRate, sysBP, temp, alertness, inspOyg, perform = x\n",
        "           rPer = priest(sex, float(age), float(respRate), float(oxySat), float(heartRate), float(sysBP), float(temp), alertness, inspOyg, perform)\n",
        "           hospName = find_hospital(int(age), sex, rPer)\n",
        "           adds = get_address(hospName)\n",
        "           df = [sex, float(age), float(respRate), float(oxySat), float(heartRate), float(sysBP), float(temp), alertness, inspOyg, perform, rPer, hospName, adds]\n",
        "           appendJSON[patient] = df\n",
        "\n",
        "       return appendJSON\n",
        "\n",
        "\n",
        "    else:\n",
        "        print(\"URL is not working and status code is : \" + outPut.status_code)"
      ]
    },
    {
      "cell_type": "markdown",
      "metadata": {
        "id": "EMN-aOX9IhL7"
      },
      "source": [
        "## Part 5: Checking your final results\n",
        "\n",
        "The final step is to check your results.  You should be able to compare your results to the output in `people_results.json` at the link below.  Write some code to check your results.  This does not need to be a function.\n",
        "\n",
        "`https://drive.google.com/uc?export=download&id=1gx1SSC20mO5XL6uYD0mdcM_cL91fcIW5`\n"
      ]
    },
    {
      "cell_type": "code",
      "execution_count": 20,
      "metadata": {
        "id": "xJPDBPX0IhL7",
        "outputId": "fba0af84-91c2-45a1-8583-ab9eab804111",
        "colab": {
          "base_uri": "https://localhost:8080/"
        }
      },
      "outputs": [
        {
          "output_type": "stream",
          "name": "stdout",
          "text": [
            "Actual JSON Data and Computed JSON Data are equal\n"
          ]
        }
      ],
      "source": [
        "import json\n",
        "import csv\n",
        "import requests\n",
        "\n",
        "\"\"\"\n",
        "It compares the actual data from API with the processed data\n",
        "from above methods and displays whether both are equal or not\n",
        "\"\"\"\n",
        "\n",
        "httpurll = \"https://hds5210-data.s3.amazonaws.com/people_results.json\"\n",
        "\n",
        "outPut = requests.get(httpurll)\n",
        "actualData = outPut.json()\n",
        "computedData = process_people(\"https://hds5210-data.s3.amazonaws.com/people.psv\")\n",
        "if json.loads(json.dumps(actualData)) == json.loads(json.dumps(computedData)):\n",
        "    print(\"Actual JSON Data and Computed JSON Data are equal\")\n",
        "else:\n",
        "    print(\"Both Are Not Equal\")"
      ]
    },
    {
      "cell_type": "markdown",
      "metadata": {
        "id": "pbvsQ0xaIhL7"
      },
      "source": [
        "---\n",
        "\n",
        "## Check your work above\n",
        "\n",
        "If you didn't get them all correct, take a few minutes to think through those that aren't correct.\n",
        "\n",
        "\n",
        "## Submitting Your Work\n",
        "\n",
        "Submit your work as usual into a folder named `midterm`"
      ]
    },
    {
      "cell_type": "markdown",
      "metadata": {
        "id": "6urZ4_8oIhL7"
      },
      "source": [
        "---"
      ]
    }
  ],
  "metadata": {
    "kernelspec": {
      "display_name": "Python 3",
      "language": "python",
      "name": "python3"
    },
    "language_info": {
      "codemirror_mode": {
        "name": "ipython",
        "version": 3
      },
      "file_extension": ".py",
      "mimetype": "text/x-python",
      "name": "python",
      "nbconvert_exporter": "python",
      "pygments_lexer": "ipython3",
      "version": "3.9.16"
    },
    "colab": {
      "provenance": []
    }
  },
  "nbformat": 4,
  "nbformat_minor": 0
}