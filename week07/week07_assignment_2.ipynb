{
  "cells": [
    {
      "cell_type": "markdown",
      "metadata": {
        "id": "aGcIu16dnN7K"
      },
      "source": [
        "# Week 7 Assignment\n",
        "\n",
        "We've been working with different types of data structures in Python (dictionary, list, etc), how those are represented in JSON documents, and how to write code to access specific data elements. In this week's assignment, you will need to create your own JSON document to store information about yourself and the grades you've received from week 1 to week 4 and the week 6 quiz.  That is, everything you should have received a grade for.  Then you'll need to show me you know how to navigate the JSON in that file.\n",
        "\n",
        "Different from what we've done in the past, you do not have to write any functions or include any docstrings.  Just create some JSON and write some code.\n",
        "\n",
        "---"
      ]
    },
    {
      "cell_type": "markdown",
      "metadata": {
        "id": "fPTWd-tynN7M"
      },
      "source": [
        "## 7.1 Create a JSON string\n",
        "\n",
        "Create a JSON string that contains your name, email, year you were born, all of the grades you've received back so far, and a comment about what you thought was most challenging on each of those assignments.  This can be any structure you choose, but make sure it uses a dictionary and a list, and has at least two levels of hierarchy.  That is, it can't just be one big long list."
      ]
    },
    {
      "cell_type": "markdown",
      "metadata": {
        "id": "1oi2ZfoznN7M"
      },
      "source": [
        "First, explain how your data structure is going to look..."
      ]
    },
    {
      "cell_type": "markdown",
      "metadata": {
        "id": "g7IoquxDnN7M"
      },
      "source": [
        "* me: This is a dictionary containing personal information about the individual. It includes the name, email, and birth year.\n",
        "grades: This is a list of dictionaries, each representing information about a specific week's assignment or quiz.\n",
        "grade: The grade received for that week's assignment or quiz.\n",
        "comment: A comment about  challenging during that week's assignment or quiz."
      ]
    },
    {
      "cell_type": "markdown",
      "metadata": {
        "id": "XEBkqsjenN7M"
      },
      "source": [
        "Then put the actual JSON you've created inside the multiline string below..."
      ]
    },
    {
      "cell_type": "code",
      "execution_count": 23,
      "metadata": {
        "id": "7Jt5DlJ2nN7N"
      },
      "outputs": [],
      "source": [
        "hds5210 = \"\"\"\n",
        "{\n",
        "    \"me\": {\n",
        "        \"name\": \"Neeharika Angirekula\",\n",
        "        \"E-Mail\":\"neeharika.angirekula@slu.edu\",\n",
        "        \"Birth Year\":\"2002\",\n",
        "        \"Grades\":[\"10\",\"10\",\"9.5\",\"10\",\"15\"]\n",
        "\n",
        "    },\n",
        "    \"comment\":{\n",
        "          \"com\":\"Due to my background in bachelor of medicine , I experienced difficulties while performing tasks that involved programming, something I had never done throughout my bachelor's degree\"\n",
        "    }\n",
        "\n",
        "}\n",
        "\"\"\""
      ]
    },
    {
      "cell_type": "markdown",
      "metadata": {
        "id": "gzEOzeiAnN7N"
      },
      "source": [
        "## 7.2 Do something with your JSON\n",
        "\n",
        "Now use Python code to do something with the Json above.  Turn it into English text, but make sure that you use at least one loop to access some dict or list content of your JSON.  Below, I've provided some basic code to read in the string above as JSON and return a Python object.  Your job is to work with that data structure and print out the important information like your name, email, and how you did on each assignment."
      ]
    },
    {
      "cell_type": "code",
      "execution_count": 24,
      "metadata": {
        "id": "uz5DUPbSnN7N",
        "outputId": "48453d96-184e-4536-bf30-9054a56b4f3b",
        "colab": {
          "base_uri": "https://localhost:8080/"
        }
      },
      "outputs": [
        {
          "output_type": "stream",
          "name": "stdout",
          "text": [
            "Hi, my name is Neeharika Angirekula\n",
            "My e-mail is neeharika.angirekula@slu.edu\n",
            "I was born in 2002\n",
            "My Grades are 10, 10, 9.5, 10, 15\n",
            "Due to my background in bachelor of medicine , I experienced difficulties while performing tasks that involved programming, something I had never done throughout my bachelor's degree\n"
          ]
        }
      ],
      "source": [
        "import json\n",
        "\n",
        "info = json.loads(hds5210)\n",
        "me = info[\"me\"][\"name\"]\n",
        "email = info[\"me\"][\"E-Mail\"]\n",
        "year=info[\"me\"][\"Birth Year\"]\n",
        "grades_list = \", \".join(info[\"me\"][\"Grades\"])\n",
        "comm=info[\"comment\"][\"com\"]\n",
        "\n",
        "print(f\"Hi, my name is {me}\")\n",
        "print(f\"My e-mail is {email}\")\n",
        "print(f\"I was born in {year}\")\n",
        "print(f\"My Grades are {grades_list}\")\n",
        "print(f\"{comm}\")"
      ]
    },
    {
      "cell_type": "markdown",
      "metadata": {
        "id": "LHTJ7yLwnN7O"
      },
      "source": [
        "## 7.3 Reflect\n",
        "\n",
        "Write a paragraph on any reflections you have. Was this hard? Easy?  What parts were most challenging or easiest? What did you like or dislike about the assignment?  Share whatever important thoughts you have abou this assignment."
      ]
    },
    {
      "cell_type": "markdown",
      "metadata": {
        "id": "t-5eGFAZnN7O"
      },
      "source": [
        "\n",
        "In light of this project, I would say that learning how to represent and deal with data using Python and JSON was beneficial. it was a littel hard. I was able to strengthen my grasp of JSON syntax and the flexibility of Python in managing these kinds of data structures with this project. Observing how simple it was to get information and display it in a visible style was the most interesting part. Overall, the project demonstrated how to use basic programming abilities in a real-world setting and showed how powerful Python is at organizing and meaningfully handling real-world data."
      ]
    },
    {
      "cell_type": "markdown",
      "metadata": {
        "id": "OK_H2wsenN7O"
      },
      "source": [
        "---\n",
        "\n",
        "# Example\n",
        "\n",
        "Below is an example of something similar, but this uses information my and my friend's kids instead of grades."
      ]
    },
    {
      "cell_type": "code",
      "execution_count": 25,
      "metadata": {
        "id": "Atvdfq6anN7P",
        "outputId": "eb2a86aa-2cab-479d-c3e2-ec5950e81c02",
        "colab": {
          "base_uri": "https://localhost:8080/"
        }
      },
      "outputs": [
        {
          "output_type": "stream",
          "name": "stdout",
          "text": [
            "Hi, my name is Paul. I've got 3 kids. Their names are Ellie, Ada, Teddy.\n",
            "My friend, Anny has 1 kids. That's fewer than me. Their names are 1\n"
          ]
        }
      ],
      "source": [
        "hds5210 = \"\"\"\n",
        "{\n",
        "    \"me\": {\n",
        "        \"name\": \"Paul\",\n",
        "        \"kids\": [\"Ellie\", \"Ada\", \"Teddy\"]\n",
        "    },\n",
        "    \"friend\": {\n",
        "        \"name\": \"Anny\",\n",
        "        \"kids\": [\"Abby\"]\n",
        "    }\n",
        "}\n",
        "\"\"\"\n",
        "\n",
        "import json\n",
        "\n",
        "info = json.loads(hds5210)\n",
        "\n",
        "me = info[\"me\"][\"name\"]\n",
        "my_kids_count = len(info[\"me\"][\"kids\"])\n",
        "kids_list = \", \".join(info[\"me\"][\"kids\"])\n",
        "friend = info[\"friend\"][\"name\"]\n",
        "friends_kid_count = len(info[\"friend\"][\"kids\"])\n",
        "friend_kids = \", \".join(info[\"friend\"][\"kids\"])\n",
        "compare = \"more\" if friends_kid_count > my_kids_count else \"fewer\"\n",
        "\n",
        "print(f\"Hi, my name is {me}. I've got {my_kids_count} kids. Their names are {kids_list}.\")\n",
        "print(f\"My friend, {friend} has {friends_kid_count} kids. That's {compare} than me. Their names are {friends_kid_count}\")"
      ]
    }
  ],
  "metadata": {
    "kernelspec": {
      "display_name": "Python 3",
      "language": "python",
      "name": "python3"
    },
    "language_info": {
      "codemirror_mode": {
        "name": "ipython",
        "version": 3
      },
      "file_extension": ".py",
      "mimetype": "text/x-python",
      "name": "python",
      "nbconvert_exporter": "python",
      "pygments_lexer": "ipython3",
      "version": "3.9.16"
    },
    "colab": {
      "provenance": []
    }
  },
  "nbformat": 4,
  "nbformat_minor": 0
}