{
  "cells": [
    {
      "cell_type": "markdown",
      "metadata": {
        "id": "LrJeA1PB95RB"
      },
      "source": [
        "# Week 11 Assignment\n",
        "\n",
        "\n",
        "Please do the programming exercise and verify that your code works using the tests, then think about your final project and fill out the questions in the second part.\n",
        "\n",
        "---\n",
        "---"
      ]
    },
    {
      "cell_type": "markdown",
      "metadata": {
        "id": "Y0kBBnjN95RL"
      },
      "source": [
        "### 47.1: Filtering and summarizing data\n",
        "\n",
        "For this work, you'll find a data file in `https://hds5210-data.s3.amazonaws.com/complications_all.csv`.\n",
        "\n",
        "Read in the data file and create a variable called `mo_hospitals` that contains a data frame from the `complications_all.csv` file, filtered down to only contain those hospitals from the state of Missouri (MO).\n",
        "\n",
        "Then aggregate that data by hospital into a variable named `mo_summary`.  There are some key fields that we want to summarize:\n",
        "* We want to know the earliest date that each hospital was participating in any program\n",
        "* We want to know the latest date that each hospital stopped participating in any program\n",
        "* We want to know the total number of patients in the denominators of these programs\n",
        "\n",
        "Some things to note:\n",
        "* You will need to convert the `Start Date` and `End Date` to actual datetime fields\n",
        "* You will need to clean up and convert the `Denominator` field to just be numeric - the rule that you should use it to simply remove any records where the `Denominator` is `'Not Available'`\n",
        "\n",
        "\n",
        "The final result of this step should be a new data frame called `mo_summary` that contains one row for each hospital and contains the min start date, max end date, and total denominator.  Use the names `start_date`, `end_date`, and `number` for those columns in `mo_summary`.\n",
        "\n",
        "\n",
        "You do not need to create your code in the form of a function, just make sure your variable names match what I've described above so the tests work."
      ]
    },
    {
      "cell_type": "code",
      "execution_count": 11,
      "metadata": {
        "id": "-jUyRa_u95RM"
      },
      "outputs": [],
      "source": [
        "import pandas as pd\n",
        "# This is just to show you the name to use for the variable you need to create for this step to pass.\n",
        "all_hospitals = pd.read_csv('https://hds5210-data.s3.amazonaws.com/complications_all.csv')\n"
      ]
    },
    {
      "cell_type": "code",
      "source": [
        "all_hospitals['State'].unique()"
      ],
      "metadata": {
        "id": "w2gZKeAZ_bOX",
        "outputId": "3dd64f68-15d3-45c3-a7a6-76dc524c3904",
        "colab": {
          "base_uri": "https://localhost:8080/"
        }
      },
      "execution_count": 12,
      "outputs": [
        {
          "output_type": "execute_result",
          "data": {
            "text/plain": [
              "array(['AL', 'AK', 'AZ', 'AR', 'CA', 'CO', 'CT', 'DE', 'DC', 'FL', 'GA',\n",
              "       'HI', 'ID', 'IL', 'IN', 'IA', 'KS', 'KY', 'LA', 'ME', 'MD', 'MA',\n",
              "       'MI', 'MN', 'MS', 'MO', 'MT', 'NE', 'NV', 'NH', 'NJ', 'NM', 'NY',\n",
              "       'NC', 'ND', 'OH', 'OK', 'OR', 'PA', 'PR', 'RI', 'SC', 'SD', 'TN',\n",
              "       'TX', 'UT', 'VT', 'VI', 'VA', 'WA', 'WV', 'WI', 'WY', 'AS', 'GU',\n",
              "       'MP'], dtype=object)"
            ]
          },
          "metadata": {},
          "execution_count": 12
        }
      ]
    },
    {
      "cell_type": "code",
      "execution_count": 13,
      "metadata": {
        "id": "jks3N8El95RP"
      },
      "outputs": [],
      "source": [
        "mo_hospitals = all_hospitals.loc[(all_hospitals['State'] =='MO')]"
      ]
    },
    {
      "cell_type": "code",
      "source": [
        "mo_hospitals['State'].unique()"
      ],
      "metadata": {
        "id": "lgQf7khI_gG-",
        "outputId": "e0d5322a-f49f-4137-e6e5-151ad6e346d2",
        "colab": {
          "base_uri": "https://localhost:8080/"
        }
      },
      "execution_count": 14,
      "outputs": [
        {
          "output_type": "execute_result",
          "data": {
            "text/plain": [
              "array(['MO'], dtype=object)"
            ]
          },
          "metadata": {},
          "execution_count": 14
        }
      ]
    },
    {
      "cell_type": "code",
      "source": [
        "# Converting and filtering as per the question\n",
        "mo_hospitals['Start Date']=pd.to_datetime(mo_hospitals['Start Date'],format=\"%m/%d/%Y\")\n",
        "mo_hospitals['End Date']=pd.to_datetime(mo_hospitals['End Date'],format=\"%m/%d/%Y\")\n",
        "mo_hospitals=mo_hospitals[mo_hospitals['Denominator']!='Not Available']\n",
        "mo_hospitals['Denominator']=mo_hospitals['Denominator'].astype('int')"
      ],
      "metadata": {
        "id": "AQxdqTML_iHZ",
        "outputId": "6d5ae234-5b38-431c-8cc4-cd0b0b4ac0d8",
        "colab": {
          "base_uri": "https://localhost:8080/"
        }
      },
      "execution_count": 15,
      "outputs": [
        {
          "output_type": "stream",
          "name": "stderr",
          "text": [
            "<ipython-input-15-9692fada68b1>:2: SettingWithCopyWarning: \n",
            "A value is trying to be set on a copy of a slice from a DataFrame.\n",
            "Try using .loc[row_indexer,col_indexer] = value instead\n",
            "\n",
            "See the caveats in the documentation: https://pandas.pydata.org/pandas-docs/stable/user_guide/indexing.html#returning-a-view-versus-a-copy\n",
            "  mo_hospitals['Start Date']=pd.to_datetime(mo_hospitals['Start Date'],format=\"%m/%d/%Y\")\n",
            "<ipython-input-15-9692fada68b1>:3: SettingWithCopyWarning: \n",
            "A value is trying to be set on a copy of a slice from a DataFrame.\n",
            "Try using .loc[row_indexer,col_indexer] = value instead\n",
            "\n",
            "See the caveats in the documentation: https://pandas.pydata.org/pandas-docs/stable/user_guide/indexing.html#returning-a-view-versus-a-copy\n",
            "  mo_hospitals['End Date']=pd.to_datetime(mo_hospitals['End Date'],format=\"%m/%d/%Y\")\n",
            "<ipython-input-15-9692fada68b1>:5: SettingWithCopyWarning: \n",
            "A value is trying to be set on a copy of a slice from a DataFrame.\n",
            "Try using .loc[row_indexer,col_indexer] = value instead\n",
            "\n",
            "See the caveats in the documentation: https://pandas.pydata.org/pandas-docs/stable/user_guide/indexing.html#returning-a-view-versus-a-copy\n",
            "  mo_hospitals['Denominator']=mo_hospitals['Denominator'].astype('int')\n"
          ]
        }
      ]
    },
    {
      "cell_type": "code",
      "source": [
        "mo_hospitals.dtypes"
      ],
      "metadata": {
        "id": "f8EUtM06_o2t",
        "outputId": "246cc1ad-26a2-405b-ad2f-b27652a34979",
        "colab": {
          "base_uri": "https://localhost:8080/"
        }
      },
      "execution_count": 16,
      "outputs": [
        {
          "output_type": "execute_result",
          "data": {
            "text/plain": [
              "Facility ID                     object\n",
              "Facility Name                   object\n",
              "Address                         object\n",
              "City                            object\n",
              "State                           object\n",
              "ZIP Code                         int64\n",
              "County Name                     object\n",
              "Phone Number                    object\n",
              "Measure ID                      object\n",
              "Measure Name                    object\n",
              "Compared to National            object\n",
              "Denominator                      int64\n",
              "Score                           object\n",
              "Lower Estimate                  object\n",
              "Higher Estimate                 object\n",
              "Footnote                       float64\n",
              "Start Date              datetime64[ns]\n",
              "End Date                datetime64[ns]\n",
              "dtype: object"
            ]
          },
          "metadata": {},
          "execution_count": 16
        }
      ]
    },
    {
      "cell_type": "code",
      "source": [
        "mo_summary.rename(columns={'Start Date':'start_date','End Date':'end_date','Denominator':'number'},inplace=True)"
      ],
      "metadata": {
        "id": "LOHUabL8_uQm"
      },
      "execution_count": 17,
      "outputs": []
    },
    {
      "cell_type": "code",
      "source": [
        "mo_summary.dtypes"
      ],
      "metadata": {
        "id": "wPIsRnO3_uD8",
        "outputId": "2de63edc-2523-4127-c79a-cfc091e2eb12",
        "colab": {
          "base_uri": "https://localhost:8080/"
        }
      },
      "execution_count": 18,
      "outputs": [
        {
          "output_type": "execute_result",
          "data": {
            "text/plain": [
              "start_date    datetime64[ns]\n",
              "end_date      datetime64[ns]\n",
              "number                 int64\n",
              "dtype: object"
            ]
          },
          "metadata": {},
          "execution_count": 18
        }
      ]
    },
    {
      "cell_type": "code",
      "execution_count": 19,
      "metadata": {
        "id": "WszQb3KC95RQ"
      },
      "outputs": [],
      "source": [
        "assert(mo_summary['number'].sum() == 1766908)\n",
        "assert(mo_summary['start_date'].min() == pd.Timestamp(2015,4,1))\n",
        "assert(mo_summary['end_date'].max() == pd.Timestamp(2018,6,30))\n",
        "assert(mo_summary.shape == (108,3))\n",
        "assert(mo_summary.loc['BARNES JEWISH HOSPITAL'].number == 131313)\n",
        "assert(mo_summary.loc['BOONE HOSPITAL CENTER'].number == 63099)"
      ]
    },
    {
      "cell_type": "markdown",
      "metadata": {
        "id": "QTfbfDZL95RS"
      },
      "source": [
        "---\n",
        "\n",
        "### 47.2 Planning your final project\n",
        "\n",
        "You should be thinking about the things we've been learning and how you can apply them to your final project.  Use the rubric to help guid your thinking and then answer the questions below.  This is meant as a guide to help you think through what you will do."
      ]
    },
    {
      "cell_type": "markdown",
      "metadata": {
        "id": "KBG5kCft95RT"
      },
      "source": [
        "#### A) Data Access\n",
        "\n",
        "Your project should include data from at least three distinct types of sources.  For example: AWS S3, Relational Databases, Internet, Web Services, local files.  List what data sources you're planning to use."
      ]
    },
    {
      "cell_type": "markdown",
      "metadata": {
        "id": "5QLmzpEx95RU"
      },
      "source": [
        "**Double-click to enter your answer**\n",
        "\n",
        "I intend to utilize the CDC and Kaggale datasets extensively\n"
      ]
    },
    {
      "cell_type": "markdown",
      "metadata": {
        "id": "_X7LvySL95RV"
      },
      "source": [
        "#### B. Data Formats\n",
        "\n",
        "Your project should include data that comes in different file formats.  For example: HL7, EDI, HTML, CSV, Excel, JSON, XML.  List what data formats you're planning to use."
      ]
    },
    {
      "cell_type": "markdown",
      "metadata": {
        "id": "jc2pWUbo95RW"
      },
      "source": [
        "**Double-click to enter your answer**\n",
        "\n",
        "xml,csv,html"
      ]
    },
    {
      "cell_type": "markdown",
      "metadata": {
        "id": "TVjSjTCr95RX"
      },
      "source": [
        "#### C. Objective\n",
        "\n",
        "What purpose would your project serve in a real work setting?  Take a couple of paragraphs to write down why this is an interesting product."
      ]
    },
    {
      "cell_type": "markdown",
      "metadata": {
        "id": "1Y5gLoqJ95RX"
      },
      "source": [
        "**Double-click to enter your answer\n",
        "\n",
        "The Vector-Borne Disease Prediction Dataset, sourced from Kaggle, serves as a crucial resource for forecasting and understanding diseases transmitted by vectors such as mosquitoes, ticks, and other carriers. These diseases, including malaria, dengue fever, and Lyme disease, pose significant public health challenges globally\n",
        "\n",
        "The dataset comprises a comprehensive set of health-related indicators, encompassing symptoms and clinical observations associated with various medical conditions. These features include parameters like sudden fever, headache, muscle and joint pain, vomiting, rash, diarrhea, and several other health-related markers. Additionally, the dataset covers more specific symptoms such as nosebleeds, mouth bleeding, and issues related to different organs and systems, such as hypotension, pleural effusion, and ascites.\n",
        "https://www.kaggle.com/datasets/richardbernat/vector-borne-disease-prediction/data\n",
        "\n",
        "\n"
      ]
    },
    {
      "cell_type": "markdown",
      "metadata": {
        "id": "yQJTM1EO95RX"
      },
      "source": [
        "\n",
        "\n",
        "---\n",
        "\n",
        "\n",
        "\n",
        "## Submit your work via GitHub as normal\n"
      ]
    }
  ],
  "metadata": {
    "kernelspec": {
      "display_name": "Python 3",
      "language": "python",
      "name": "python3"
    },
    "language_info": {
      "codemirror_mode": {
        "name": "ipython",
        "version": 3
      },
      "file_extension": ".py",
      "mimetype": "text/x-python",
      "name": "python",
      "nbconvert_exporter": "python",
      "pygments_lexer": "ipython3",
      "version": "3.9.16"
    },
    "colab": {
      "provenance": []
    }
  },
  "nbformat": 4,
  "nbformat_minor": 0
}